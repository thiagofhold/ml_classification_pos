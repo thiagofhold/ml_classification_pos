{
 "cells": [
  {
   "cell_type": "code",
   "execution_count": 1,
   "metadata": {},
   "outputs": [],
   "source": [
    "import pandas as pd"
   ]
  },
  {
   "cell_type": "code",
   "execution_count": 2,
   "metadata": {
    "scrolled": false
   },
   "outputs": [],
   "source": [
    "fires = pd.read_excel('../bases/amazon_fires.xlsx', )"
   ]
  },
  {
   "cell_type": "code",
   "execution_count": 3,
   "metadata": {},
   "outputs": [
    {
     "data": {
      "text/html": [
       "<div>\n",
       "<style scoped>\n",
       "    .dataframe tbody tr th:only-of-type {\n",
       "        vertical-align: middle;\n",
       "    }\n",
       "\n",
       "    .dataframe tbody tr th {\n",
       "        vertical-align: top;\n",
       "    }\n",
       "\n",
       "    .dataframe thead th {\n",
       "        text-align: right;\n",
       "    }\n",
       "</style>\n",
       "<table border=\"1\" class=\"dataframe\">\n",
       "  <thead>\n",
       "    <tr style=\"text-align: right;\">\n",
       "      <th></th>\n",
       "      <th>year</th>\n",
       "      <th>state</th>\n",
       "      <th>month</th>\n",
       "      <th>number</th>\n",
       "      <th>date</th>\n",
       "    </tr>\n",
       "  </thead>\n",
       "  <tbody>\n",
       "    <tr>\n",
       "      <th>0</th>\n",
       "      <td>1998</td>\n",
       "      <td>Acre</td>\n",
       "      <td>Janeiro</td>\n",
       "      <td>0.0</td>\n",
       "      <td>1998-01-01</td>\n",
       "    </tr>\n",
       "    <tr>\n",
       "      <th>1</th>\n",
       "      <td>1999</td>\n",
       "      <td>Acre</td>\n",
       "      <td>Janeiro</td>\n",
       "      <td>0.0</td>\n",
       "      <td>1999-01-01</td>\n",
       "    </tr>\n",
       "    <tr>\n",
       "      <th>2</th>\n",
       "      <td>2000</td>\n",
       "      <td>Acre</td>\n",
       "      <td>Janeiro</td>\n",
       "      <td>0.0</td>\n",
       "      <td>2000-01-01</td>\n",
       "    </tr>\n",
       "    <tr>\n",
       "      <th>3</th>\n",
       "      <td>2001</td>\n",
       "      <td>Acre</td>\n",
       "      <td>Janeiro</td>\n",
       "      <td>0.0</td>\n",
       "      <td>2001-01-01</td>\n",
       "    </tr>\n",
       "    <tr>\n",
       "      <th>4</th>\n",
       "      <td>2002</td>\n",
       "      <td>Acre</td>\n",
       "      <td>Janeiro</td>\n",
       "      <td>0.0</td>\n",
       "      <td>2002-01-01</td>\n",
       "    </tr>\n",
       "    <tr>\n",
       "      <th>5</th>\n",
       "      <td>2003</td>\n",
       "      <td>Acre</td>\n",
       "      <td>Janeiro</td>\n",
       "      <td>10.0</td>\n",
       "      <td>2003-01-01</td>\n",
       "    </tr>\n",
       "    <tr>\n",
       "      <th>6</th>\n",
       "      <td>2004</td>\n",
       "      <td>Acre</td>\n",
       "      <td>Janeiro</td>\n",
       "      <td>0.0</td>\n",
       "      <td>2004-01-01</td>\n",
       "    </tr>\n",
       "    <tr>\n",
       "      <th>7</th>\n",
       "      <td>2005</td>\n",
       "      <td>Acre</td>\n",
       "      <td>Janeiro</td>\n",
       "      <td>12.0</td>\n",
       "      <td>2005-01-01</td>\n",
       "    </tr>\n",
       "    <tr>\n",
       "      <th>8</th>\n",
       "      <td>2006</td>\n",
       "      <td>Acre</td>\n",
       "      <td>Janeiro</td>\n",
       "      <td>4.0</td>\n",
       "      <td>2006-01-01</td>\n",
       "    </tr>\n",
       "    <tr>\n",
       "      <th>9</th>\n",
       "      <td>2007</td>\n",
       "      <td>Acre</td>\n",
       "      <td>Janeiro</td>\n",
       "      <td>0.0</td>\n",
       "      <td>2007-01-01</td>\n",
       "    </tr>\n",
       "  </tbody>\n",
       "</table>\n",
       "</div>"
      ],
      "text/plain": [
       "   year state    month  number       date\n",
       "0  1998  Acre  Janeiro     0.0 1998-01-01\n",
       "1  1999  Acre  Janeiro     0.0 1999-01-01\n",
       "2  2000  Acre  Janeiro     0.0 2000-01-01\n",
       "3  2001  Acre  Janeiro     0.0 2001-01-01\n",
       "4  2002  Acre  Janeiro     0.0 2002-01-01\n",
       "5  2003  Acre  Janeiro    10.0 2003-01-01\n",
       "6  2004  Acre  Janeiro     0.0 2004-01-01\n",
       "7  2005  Acre  Janeiro    12.0 2005-01-01\n",
       "8  2006  Acre  Janeiro     4.0 2006-01-01\n",
       "9  2007  Acre  Janeiro     0.0 2007-01-01"
      ]
     },
     "execution_count": 3,
     "metadata": {},
     "output_type": "execute_result"
    }
   ],
   "source": [
    "fires.head(10)"
   ]
  },
  {
   "cell_type": "code",
   "execution_count": 4,
   "metadata": {},
   "outputs": [
    {
     "data": {
      "text/plain": [
       "<matplotlib.axes._subplots.AxesSubplot at 0x11e871198>"
      ]
     },
     "execution_count": 4,
     "metadata": {},
     "output_type": "execute_result"
    }
   ],
   "source": [
    "fires.groupby('state')['number'].sum().plot.bar()"
   ]
  },
  {
   "cell_type": "code",
   "execution_count": 5,
   "metadata": {},
   "outputs": [
    {
     "data": {
      "text/plain": [
       "<matplotlib.axes._subplots.AxesSubplot at 0x120332470>"
      ]
     },
     "execution_count": 5,
     "metadata": {},
     "output_type": "execute_result"
    },
    {
     "data": {
      "image/png": "[encoded data removed]",
      "text/plain": [
       "<Figure size 432x288 with 1 Axes>"
      ]
     },
     "metadata": {
      "needs_background": "light"
     },
     "output_type": "display_data"
    }
   ],
   "source": [
    "fires.groupby('year')['number'].sum().plot.bar()"
   ]
  },
  {
   "cell_type": "code",
   "execution_count": 6,
   "metadata": {},
   "outputs": [],
   "source": [
    "#INSIRO A COLUNA DE MES E ANO TRATADOS\n",
    "month_year = []\n",
    "for my in range(0, len(fires['date'])):\n",
    "    month_year.append(str(fires['month'][my])+' - '+str(fires['year'][my]))\n",
    "\n",
    "fires['trt_month_year'] = month_year"
   ]
  },
  {
   "cell_type": "code",
   "execution_count": 7,
   "metadata": {},
   "outputs": [
    {
     "data": {
      "text/plain": [
       "<matplotlib.axes._subplots.AxesSubplot at 0x12047d208>"
      ]
     },
     "execution_count": 7,
     "metadata": {},
     "output_type": "execute_result"
    },
    {
     "data": {
      "image/png": "[encoded data removed]",
      "text/plain": [
       "<Figure size 432x288 with 1 Axes>"
      ]
     },
     "metadata": {
      "needs_background": "light"
     },
     "output_type": "display_data"
    }
   ],
   "source": [
    "fires.groupby('trt_month_year')['number'].sum().plot.bar()"
   ]
  },
  {
   "cell_type": "code",
   "execution_count": 8,
   "metadata": {},
   "outputs": [
    {
     "data": {
      "text/plain": [
       "trt_month_year\n",
       "Abril - 1998       0.0\n",
       "Abril - 1999     717.0\n",
       "Abril - 2000     537.0\n",
       "Abril - 2001    1081.0\n",
       "Abril - 2002    1682.0\n",
       "Abril - 2003    2677.0\n",
       "Abril - 2004    1335.0\n",
       "Abril - 2005    1011.0\n",
       "Abril - 2006     792.0\n",
       "Abril - 2007     415.0\n",
       "Name: number, dtype: float64"
      ]
     },
     "execution_count": 8,
     "metadata": {},
     "output_type": "execute_result"
    }
   ],
   "source": [
    "fires.groupby('trt_month_year')['number'].sum().head(10)"
   ]
  },
  {
   "cell_type": "code",
   "execution_count": 9,
   "metadata": {},
   "outputs": [],
   "source": [
    "#TRATO A QUANTIDADE DE INCENDIOS COM 0 E 1\n",
    "nfires = []\n",
    "\n",
    "for k in fires['number']:\n",
    "    if int(k) > 0:\n",
    "        nfires.append(1)\n",
    "    else:\n",
    "        nfires.append(0)\n",
    "        \n",
    "fires['trt_number'] = nfires"
   ]
  },
  {
   "cell_type": "code",
   "execution_count": 10,
   "metadata": {},
   "outputs": [
    {
     "data": {
      "text/plain": [
       "trt_number\n",
       "0     617\n",
       "1    5837\n",
       "Name: trt_number, dtype: int64"
      ]
     },
     "execution_count": 10,
     "metadata": {},
     "output_type": "execute_result"
    }
   ],
   "source": [
    "fires.groupby('trt_number')['trt_number'].count()"
   ]
  },
  {
   "cell_type": "code",
   "execution_count": 11,
   "metadata": {},
   "outputs": [
    {
     "name": "stdout",
     "output_type": "stream",
     "text": [
      "Total de colunas antes do drop:\n",
      "6454\n",
      "\n",
      "\n",
      "Total de colunas pós drop:\n",
      "6454\n"
     ]
    }
   ],
   "source": [
    "#DROPANDO OS NAs\n",
    "print('Total de colunas antes do drop:')\n",
    "print(len(fires['year']))\n",
    "\n",
    "print('\\n')\n",
    "fires = fires.dropna()\n",
    "print('Total de colunas pós drop:')\n",
    "print(len(fires['year']))"
   ]
  },
  {
   "cell_type": "code",
   "execution_count": 12,
   "metadata": {},
   "outputs": [
    {
     "data": {
      "text/plain": [
       "state\n",
       "Acre                239\n",
       "Alagoas             240\n",
       "Amapa               239\n",
       "Amazonas            239\n",
       "Bahia               239\n",
       "Ceara               239\n",
       "Distrito Federal    239\n",
       "Espirito Santo      239\n",
       "Goias               239\n",
       "Maranhao            239\n",
       "Mato Grosso         478\n",
       "Minas Gerais        239\n",
       "Paraiba             478\n",
       "Par·                239\n",
       "Pernambuco          239\n",
       "Piau                239\n",
       "Rio                 717\n",
       "Rondonia            239\n",
       "Roraima             239\n",
       "Santa Catarina      239\n",
       "Sao Paulo           239\n",
       "Sergipe             239\n",
       "Tocantins           239\n",
       "Name: state, dtype: int64"
      ]
     },
     "execution_count": 12,
     "metadata": {},
     "output_type": "execute_result"
    }
   ],
   "source": [
    "fires.groupby('state')['state'].count()"
   ]
  },
  {
   "cell_type": "code",
   "execution_count": 13,
   "metadata": {},
   "outputs": [],
   "source": [
    "def trt_regiao(pr):\n",
    "        regioes = {\n",
    "        'Acre':'Norte',\n",
    "        'Alagoas':'Nordeste',\n",
    "        'Amapa':'Norte',\n",
    "        'Amazonas':'Norte',\n",
    "        'Bahia':'Nordeste',\n",
    "        'Ceara':'Nordeste',\n",
    "        'Distrito Federal':'Centro-Oeste',\n",
    "        'Espirito Santo':'Sudeste',\n",
    "        'Goias':'Centro-Oeste',\n",
    "        'Maranhao':'Nordeste',\n",
    "        'Mato Grosso':'Centro-Oeste',\n",
    "        'Minas Gerais':'Sudeste',\n",
    "        'Paraiba':'Nordeste',\n",
    "        'Par·':'Norte',\n",
    "        'Pará': 'Norte',\n",
    "        'Pernambuco':'Nordeste',\n",
    "        'Piau':'Nordeste',\n",
    "        'Rio':'Sudeste',\n",
    "        'Rondonia':'Norte',\n",
    "        'Roraima':'Norte',\n",
    "        'Santa Catarina':'Sul',\n",
    "        'Sao Paulo':'Sudeste',\n",
    "        'Sergipe':'Nordeste',\n",
    "        'Tocantins':'Norte',\n",
    "        }\n",
    "        return regioes[str(pr)]\n",
    "fires['trt_region'] = [trt_regiao(r) for r in fires['state']]"
   ]
  },
  {
   "cell_type": "code",
   "execution_count": 14,
   "metadata": {},
   "outputs": [
    {
     "data": {
      "text/plain": [
       "trt_region\n",
       "Centro-Oeste     956\n",
       "Nordeste        2152\n",
       "Norte           1673\n",
       "Sudeste         1434\n",
       "Sul              239\n",
       "Name: trt_region, dtype: int64"
      ]
     },
     "execution_count": 14,
     "metadata": {},
     "output_type": "execute_result"
    }
   ],
   "source": [
    "fires.groupby('trt_region')['trt_region'].count()"
   ]
  },
  {
   "cell_type": "code",
   "execution_count": 15,
   "metadata": {},
   "outputs": [],
   "source": [
    "#DEFINIR AS ESTAÇOES DO ANO\n",
    "estacoes = {\n",
    "\t'Janeiro':'Verao',\n",
    "\t'Fevereiro':'Verao',\n",
    "\t'Março':'Verao',\n",
    "\t'MarÁo':'Outono',\n",
    "\t'Marco':'Outono',\n",
    "\t'Abril':'Outono',\n",
    "\t'Maio':'Outono',\n",
    "\t'Junho':'Outono',\n",
    "\t'Julho':'Inverno',\n",
    "\t'Agosto':'Inverno',\n",
    "\t'Setembro':'Inverno',\n",
    "\t'Outubro':'Primavera',\n",
    "\t'Novembro': 'Primavera',\n",
    "\t'Dezembro':'Primavera'\n",
    "}\n",
    "\n",
    "fires['trt_estacoes'] = [estacoes[str(et)] for et in fires['month']]"
   ]
  },
  {
   "cell_type": "code",
   "execution_count": 16,
   "metadata": {},
   "outputs": [
    {
     "data": {
      "text/html": [
       "<div>\n",
       "<style scoped>\n",
       "    .dataframe tbody tr th:only-of-type {\n",
       "        vertical-align: middle;\n",
       "    }\n",
       "\n",
       "    .dataframe tbody tr th {\n",
       "        vertical-align: top;\n",
       "    }\n",
       "\n",
       "    .dataframe thead th {\n",
       "        text-align: right;\n",
       "    }\n",
       "</style>\n",
       "<table border=\"1\" class=\"dataframe\">\n",
       "  <thead>\n",
       "    <tr style=\"text-align: right;\">\n",
       "      <th></th>\n",
       "      <th>year</th>\n",
       "      <th>state</th>\n",
       "      <th>month</th>\n",
       "      <th>number</th>\n",
       "      <th>date</th>\n",
       "      <th>trt_month_year</th>\n",
       "      <th>trt_number</th>\n",
       "      <th>trt_region</th>\n",
       "      <th>trt_estacoes</th>\n",
       "    </tr>\n",
       "  </thead>\n",
       "  <tbody>\n",
       "    <tr>\n",
       "      <th>0</th>\n",
       "      <td>1998</td>\n",
       "      <td>Acre</td>\n",
       "      <td>Janeiro</td>\n",
       "      <td>0.0</td>\n",
       "      <td>1998-01-01</td>\n",
       "      <td>Janeiro - 1998</td>\n",
       "      <td>0</td>\n",
       "      <td>Norte</td>\n",
       "      <td>Verao</td>\n",
       "    </tr>\n",
       "    <tr>\n",
       "      <th>1</th>\n",
       "      <td>1999</td>\n",
       "      <td>Acre</td>\n",
       "      <td>Janeiro</td>\n",
       "      <td>0.0</td>\n",
       "      <td>1999-01-01</td>\n",
       "      <td>Janeiro - 1999</td>\n",
       "      <td>0</td>\n",
       "      <td>Norte</td>\n",
       "      <td>Verao</td>\n",
       "    </tr>\n",
       "    <tr>\n",
       "      <th>2</th>\n",
       "      <td>2000</td>\n",
       "      <td>Acre</td>\n",
       "      <td>Janeiro</td>\n",
       "      <td>0.0</td>\n",
       "      <td>2000-01-01</td>\n",
       "      <td>Janeiro - 2000</td>\n",
       "      <td>0</td>\n",
       "      <td>Norte</td>\n",
       "      <td>Verao</td>\n",
       "    </tr>\n",
       "    <tr>\n",
       "      <th>3</th>\n",
       "      <td>2001</td>\n",
       "      <td>Acre</td>\n",
       "      <td>Janeiro</td>\n",
       "      <td>0.0</td>\n",
       "      <td>2001-01-01</td>\n",
       "      <td>Janeiro - 2001</td>\n",
       "      <td>0</td>\n",
       "      <td>Norte</td>\n",
       "      <td>Verao</td>\n",
       "    </tr>\n",
       "    <tr>\n",
       "      <th>4</th>\n",
       "      <td>2002</td>\n",
       "      <td>Acre</td>\n",
       "      <td>Janeiro</td>\n",
       "      <td>0.0</td>\n",
       "      <td>2002-01-01</td>\n",
       "      <td>Janeiro - 2002</td>\n",
       "      <td>0</td>\n",
       "      <td>Norte</td>\n",
       "      <td>Verao</td>\n",
       "    </tr>\n",
       "  </tbody>\n",
       "</table>\n",
       "</div>"
      ],
      "text/plain": [
       "   year state    month  number       date  trt_month_year  trt_number  \\\n",
       "0  1998  Acre  Janeiro     0.0 1998-01-01  Janeiro - 1998           0   \n",
       "1  1999  Acre  Janeiro     0.0 1999-01-01  Janeiro - 1999           0   \n",
       "2  2000  Acre  Janeiro     0.0 2000-01-01  Janeiro - 2000           0   \n",
       "3  2001  Acre  Janeiro     0.0 2001-01-01  Janeiro - 2001           0   \n",
       "4  2002  Acre  Janeiro     0.0 2002-01-01  Janeiro - 2002           0   \n",
       "\n",
       "  trt_region trt_estacoes  \n",
       "0      Norte        Verao  \n",
       "1      Norte        Verao  \n",
       "2      Norte        Verao  \n",
       "3      Norte        Verao  \n",
       "4      Norte        Verao  "
      ]
     },
     "execution_count": 16,
     "metadata": {},
     "output_type": "execute_result"
    }
   ],
   "source": [
    "fires.head()"
   ]
  },
  {
   "cell_type": "code",
   "execution_count": 17,
   "metadata": {},
   "outputs": [],
   "source": [
    "#REMOVER A DATA\n",
    "del fires['date']\n",
    "del fires['number']"
   ]
  },
  {
   "cell_type": "code",
   "execution_count": 18,
   "metadata": {},
   "outputs": [
    {
     "data": {
      "text/plain": [
       "trt_number\n",
       "0     617\n",
       "1    5837\n",
       "Name: trt_number, dtype: int64"
      ]
     },
     "execution_count": 18,
     "metadata": {},
     "output_type": "execute_result"
    }
   ],
   "source": [
    "fires.groupby('trt_number')['trt_number'].count()"
   ]
  },
  {
   "cell_type": "code",
   "execution_count": 19,
   "metadata": {},
   "outputs": [
    {
     "data": {
      "text/html": [
       "<div>\n",
       "<style scoped>\n",
       "    .dataframe tbody tr th:only-of-type {\n",
       "        vertical-align: middle;\n",
       "    }\n",
       "\n",
       "    .dataframe tbody tr th {\n",
       "        vertical-align: top;\n",
       "    }\n",
       "\n",
       "    .dataframe thead th {\n",
       "        text-align: right;\n",
       "    }\n",
       "</style>\n",
       "<table border=\"1\" class=\"dataframe\">\n",
       "  <thead>\n",
       "    <tr style=\"text-align: right;\">\n",
       "      <th></th>\n",
       "      <th>year</th>\n",
       "      <th>state</th>\n",
       "      <th>month</th>\n",
       "      <th>trt_month_year</th>\n",
       "      <th>trt_number</th>\n",
       "      <th>trt_region</th>\n",
       "      <th>trt_estacoes</th>\n",
       "    </tr>\n",
       "  </thead>\n",
       "  <tbody>\n",
       "    <tr>\n",
       "      <th>0</th>\n",
       "      <td>1998</td>\n",
       "      <td>Acre</td>\n",
       "      <td>Janeiro</td>\n",
       "      <td>Janeiro - 1998</td>\n",
       "      <td>0</td>\n",
       "      <td>Norte</td>\n",
       "      <td>Verao</td>\n",
       "    </tr>\n",
       "    <tr>\n",
       "      <th>1</th>\n",
       "      <td>1999</td>\n",
       "      <td>Acre</td>\n",
       "      <td>Janeiro</td>\n",
       "      <td>Janeiro - 1999</td>\n",
       "      <td>0</td>\n",
       "      <td>Norte</td>\n",
       "      <td>Verao</td>\n",
       "    </tr>\n",
       "    <tr>\n",
       "      <th>2</th>\n",
       "      <td>2000</td>\n",
       "      <td>Acre</td>\n",
       "      <td>Janeiro</td>\n",
       "      <td>Janeiro - 2000</td>\n",
       "      <td>0</td>\n",
       "      <td>Norte</td>\n",
       "      <td>Verao</td>\n",
       "    </tr>\n",
       "    <tr>\n",
       "      <th>3</th>\n",
       "      <td>2001</td>\n",
       "      <td>Acre</td>\n",
       "      <td>Janeiro</td>\n",
       "      <td>Janeiro - 2001</td>\n",
       "      <td>0</td>\n",
       "      <td>Norte</td>\n",
       "      <td>Verao</td>\n",
       "    </tr>\n",
       "    <tr>\n",
       "      <th>4</th>\n",
       "      <td>2002</td>\n",
       "      <td>Acre</td>\n",
       "      <td>Janeiro</td>\n",
       "      <td>Janeiro - 2002</td>\n",
       "      <td>0</td>\n",
       "      <td>Norte</td>\n",
       "      <td>Verao</td>\n",
       "    </tr>\n",
       "  </tbody>\n",
       "</table>\n",
       "</div>"
      ],
      "text/plain": [
       "   year state    month  trt_month_year  trt_number trt_region trt_estacoes\n",
       "0  1998  Acre  Janeiro  Janeiro - 1998           0      Norte        Verao\n",
       "1  1999  Acre  Janeiro  Janeiro - 1999           0      Norte        Verao\n",
       "2  2000  Acre  Janeiro  Janeiro - 2000           0      Norte        Verao\n",
       "3  2001  Acre  Janeiro  Janeiro - 2001           0      Norte        Verao\n",
       "4  2002  Acre  Janeiro  Janeiro - 2002           0      Norte        Verao"
      ]
     },
     "execution_count": 19,
     "metadata": {},
     "output_type": "execute_result"
    }
   ],
   "source": [
    "fires.head()"
   ]
  },
  {
   "cell_type": "code",
   "execution_count": 21,
   "metadata": {},
   "outputs": [],
   "source": [
    "fires.to_csv('../output/fires_trt.csv', sep=',', index=0)"
   ]
  },
  {
   "cell_type": "code",
   "execution_count": null,
   "metadata": {},
   "outputs": [],
   "source": []
  },
  {
   "cell_type": "code",
   "execution_count": null,
   "metadata": {},
   "outputs": [],
   "source": []
  }
 ],
 "metadata": {
  "kernelspec": {
   "display_name": "Python 3",
   "language": "python",
   "name": "python3"
  },
  "language_info": {
   "codemirror_mode": {
    "name": "ipython",
    "version": 3
   },
   "file_extension": ".py",
   "mimetype": "text/x-python",
   "name": "python",
   "nbconvert_exporter": "python",
   "pygments_lexer": "ipython3",
   "version": "3.7.3"
  }
 },
 "nbformat": 4,
 "nbformat_minor": 2
}
